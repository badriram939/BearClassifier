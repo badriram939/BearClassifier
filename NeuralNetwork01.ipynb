{
  "nbformat": 4,
  "nbformat_minor": 0,
  "metadata": {
    "language_info": {
      "codemirror_mode": {
        "name": "ipython",
        "version": 3
      },
      "file_extension": ".py",
      "mimetype": "text/x-python",
      "name": "python",
      "nbconvert_exporter": "python",
      "pygments_lexer": "ipython3",
      "version": "3.6.12-final"
    },
    "orig_nbformat": 2,
    "kernelspec": {
      "name": "Python 3.6.12 64-bit ('tensor-gpu': conda)",
      "display_name": "Python 3.6.12 64-bit ('tensor-gpu': conda)",
      "metadata": {
        "interpreter": {
          "hash": "490691e3807263673431865bc365e5e4ed9cb5be45f4df0bf126c54b5206a84f"
        }
      }
    },
    "colab": {
      "name": "NeuralNetwork01.ipynb",
      "provenance": []
    }
  },
  "cells": [
    {
      "cell_type": "code",
      "metadata": {
        "id": "22zRRxb21n07"
      },
      "source": [
        "import tensorflow as tf"
      ],
      "execution_count": null,
      "outputs": []
    },
    {
      "cell_type": "code",
      "metadata": {
        "id": "qkrUBCDG1n1A",
        "outputId": "114022dc-3590-488e-d4a3-949c618e9ed2",
        "colab": {
          "base_uri": "https://localhost:8080/",
          "height": 35
        }
      },
      "source": [
        "tf.__version__"
      ],
      "execution_count": null,
      "outputs": [
        {
          "output_type": "execute_result",
          "data": {
            "application/vnd.google.colaboratory.intrinsic+json": {
              "type": "string"
            },
            "text/plain": [
              "'2.3.0'"
            ]
          },
          "metadata": {
            "tags": []
          },
          "execution_count": 563
        }
      ]
    },
    {
      "cell_type": "code",
      "metadata": {
        "id": "Q-4SGWWh1n1G"
      },
      "source": [
        "import numpy as np"
      ],
      "execution_count": null,
      "outputs": []
    },
    {
      "cell_type": "code",
      "metadata": {
        "id": "94_JYgQV1n1J"
      },
      "source": [
        "import matplotlib"
      ],
      "execution_count": null,
      "outputs": []
    },
    {
      "cell_type": "code",
      "metadata": {
        "id": "qwcoeozp1n1N"
      },
      "source": [
        "import matplotlib.pyplot as plt"
      ],
      "execution_count": null,
      "outputs": []
    },
    {
      "cell_type": "code",
      "metadata": {
        "id": "2wsqmZB91n1Q"
      },
      "source": [
        "import random"
      ],
      "execution_count": null,
      "outputs": []
    },
    {
      "cell_type": "code",
      "metadata": {
        "id": "nnCxli5K1n1U"
      },
      "source": [
        ""
      ],
      "execution_count": null,
      "outputs": []
    },
    {
      "cell_type": "code",
      "metadata": {
        "tags": [],
        "id": "zXp-h4iY1n1Y"
      },
      "source": [
        "%matplotlib inline"
      ],
      "execution_count": null,
      "outputs": []
    },
    {
      "cell_type": "code",
      "metadata": {
        "id": "_4D3-C6A1n1c"
      },
      "source": [
        "X = np.array([[1,0,1,0],[1,0,1,1],[0,1,0,1]])"
      ],
      "execution_count": null,
      "outputs": []
    },
    {
      "cell_type": "code",
      "metadata": {
        "id": "XqfUbE1m1n1i"
      },
      "source": [
        "X = X.T"
      ],
      "execution_count": null,
      "outputs": []
    },
    {
      "cell_type": "code",
      "metadata": {
        "id": "ARbdQW_k1n1l"
      },
      "source": [
        "Y= np.array([[1],[1],[0]])"
      ],
      "execution_count": null,
      "outputs": []
    },
    {
      "cell_type": "code",
      "metadata": {
        "id": "R1x7uXGm1n1o"
      },
      "source": [
        "Y =Y.T"
      ],
      "execution_count": null,
      "outputs": []
    },
    {
      "cell_type": "code",
      "metadata": {
        "id": "0LGdG-dT1n1r"
      },
      "source": [
        "inputLayerNeurons=X.shape[0]"
      ],
      "execution_count": null,
      "outputs": []
    },
    {
      "cell_type": "code",
      "metadata": {
        "id": "TVjJMsJt1n1u"
      },
      "source": [
        "hiddenlayerNeurons = 3"
      ],
      "execution_count": null,
      "outputs": []
    },
    {
      "cell_type": "code",
      "metadata": {
        "id": "abCtvASI1n1y"
      },
      "source": [
        "outputNeurons = 1"
      ],
      "execution_count": null,
      "outputs": []
    },
    {
      "cell_type": "code",
      "metadata": {
        "id": "9YegGlE21n15"
      },
      "source": [
        "np.random.seed(2)\n",
        "w_ih = np.random.uniform(size=(inputLayerNeurons,hiddenlayerNeurons))\n",
        "w_ho = np.random.uniform(size=(hiddenlayerNeurons,outputNeurons))"
      ],
      "execution_count": null,
      "outputs": []
    },
    {
      "cell_type": "code",
      "metadata": {
        "id": "mjV5b8qV2RTG",
        "outputId": "ec472389-a1ef-41d9-c04c-8cabb10621bc",
        "colab": {
          "base_uri": "https://localhost:8080/"
        }
      },
      "source": [
        "w_ih"
      ],
      "execution_count": null,
      "outputs": [
        {
          "output_type": "execute_result",
          "data": {
            "text/plain": [
              "array([[0.4359949 , 0.02592623, 0.54966248],\n",
              "       [0.43532239, 0.4203678 , 0.33033482],\n",
              "       [0.20464863, 0.61927097, 0.29965467],\n",
              "       [0.26682728, 0.62113383, 0.52914209]])"
            ]
          },
          "metadata": {
            "tags": []
          },
          "execution_count": 577
        }
      ]
    },
    {
      "cell_type": "code",
      "metadata": {
        "id": "Zm6VnR7Z2RTJ",
        "outputId": "e73e840a-9f1f-4cfd-a53c-4900f8fa2da0",
        "colab": {
          "base_uri": "https://localhost:8080/"
        }
      },
      "source": [
        "w_ho"
      ],
      "execution_count": null,
      "outputs": [
        {
          "output_type": "execute_result",
          "data": {
            "text/plain": [
              "array([[0.13457995],\n",
              "       [0.51357812],\n",
              "       [0.18443987]])"
            ]
          },
          "metadata": {
            "tags": []
          },
          "execution_count": 578
        }
      ]
    },
    {
      "cell_type": "code",
      "metadata": {
        "id": "2ydgmQSF1n19"
      },
      "source": [
        "def sigmoid(x):\n",
        "    return 1/(1+ np.exp(-x))"
      ],
      "execution_count": null,
      "outputs": []
    },
    {
      "cell_type": "code",
      "metadata": {
        "id": "68JPBibB1n2A"
      },
      "source": [
        "hiddenLayerInput = np.dot(w_ih.T,X)\n",
        "hiddenLayerActivationss = sigmoid(hiddenLayerInput)"
      ],
      "execution_count": null,
      "outputs": []
    },
    {
      "cell_type": "code",
      "metadata": {
        "id": "AMAdQeAY1n2D"
      },
      "source": [
        "hiddenLayerOutput = np.dot(w_ho.T,hiddenLayerActivationss)\n",
        "output = sigmoid(hiddenLayerOutput)"
      ],
      "execution_count": null,
      "outputs": []
    },
    {
      "cell_type": "code",
      "metadata": {
        "id": "kU5i9zZD1n2F"
      },
      "source": [
        "error =np.square( Y - output)/2"
      ],
      "execution_count": null,
      "outputs": []
    },
    {
      "cell_type": "code",
      "metadata": {
        "id": "ZD6V4yCy1n2J"
      },
      "source": [
        "# Rate of change of error between hidden and output layer\n",
        "\n",
        "deByDOut = output-Y"
      ],
      "execution_count": null,
      "outputs": []
    },
    {
      "cell_type": "code",
      "metadata": {
        "id": "qKavhWnL1n2M"
      },
      "source": [
        "dOutByDz2 = np.multiply(output,(1-output))"
      ],
      "execution_count": null,
      "outputs": []
    },
    {
      "cell_type": "code",
      "metadata": {
        "id": "VTcWhfvL1n2P"
      },
      "source": [
        "dz2ByDWho= hiddenLayerActivationss"
      ],
      "execution_count": null,
      "outputs": []
    },
    {
      "cell_type": "code",
      "metadata": {
        "id": "X7frO6l21n2S"
      },
      "source": [
        " deByDWh0 = np.dot(dz2ByDWho,(deByDOut * dOutByDz2).T) \n",
        "\n"
      ],
      "execution_count": null,
      "outputs": []
    },
    {
      "cell_type": "code",
      "metadata": {
        "id": "FIgSKnH81n2W"
      },
      "source": [
        "# Rate of change of error between input and hidden layer\n",
        "dz1ByDwih = X\n",
        "dh1ByDz1 = np.multiply(hiddenLayerInput ,(1-hiddenLayerInput))\n",
        "dz2ByDh1 = w_ho.T\n",
        "deByDWih = np.dot(dz1ByDwih,np.multiply(np.dot((deByDOut * dOutByDz2).T,dz2ByDh1),dh1ByDz1))\n",
        "deByDWih_new =np.dot(dz1ByDwih, np.dot(dz2ByDh1.T, (deByDOut * dOutByDz2)) * dh1ByDz1)\n",
        "deByDWih_new_new =  np.dot(dz1ByDwih,dh1ByDz1 * np.dot(dz2ByDh1.T,(deByDOut * dOutByDz2)))\n",
        "deByDWih_new_new_new =np.dot(dz1ByDwih,np.dot(np.dot(dh1ByDz1,dz2ByDh1.T),(deByDOut*dOutByDz2)))\n",
        "deByDWih_1= np.dot(dz1ByDwih,(dh1ByDz1 * np.dot(dz2ByDh1.T,(deByDOut * dOutByDz2))))"
      ],
      "execution_count": null,
      "outputs": []
    },
    {
      "cell_type": "code",
      "metadata": {
        "id": "9Mf4VpeD1n2b"
      },
      "source": [
        "# Update the weights according to gradient descent\n",
        "alpha = 0.00635998\n",
        "w_ih = w_ih - (alpha*deByDWih)\n",
        "w_ho = w_ho - (alpha*deByDWh0)\n"
      ],
      "execution_count": null,
      "outputs": []
    },
    {
      "cell_type": "code",
      "metadata": {
        "id": "RGW97ALgxlAd"
      },
      "source": [
        "# Training for N epochs\n",
        "error_epoch = []\n",
        "epochs = 10000\n",
        "for i in range(epochs):\n",
        "    # Forward Propogation\n",
        "\n",
        "    # Hidden Layer Activations\n",
        "    hiddenLayerInput = np.dot(w_ih.T,X)\n",
        "    hiddenLayerActivationss = sigmoid(hiddenLayerInput)\n",
        "\n",
        "    # Calculating the output\n",
        "    hiddenLayerOutput = np.dot(w_ho.T,hiddenLayerActivationss)\n",
        "    output = sigmoid(hiddenLayerOutput)\n",
        "\n",
        "    # Backpropogation\n",
        "\n",
        "    # Calculation of Error\n",
        "    error =np.square( Y - output)/2\n",
        "    deByDOut = output-Y\n",
        "    dOutByDz2 = np.multiply(output ,(1-output))\n",
        "    dz2ByDWho= hiddenLayerActivationss\n",
        "    deByDWh0 = np.dot(dz2ByDWho,(deByDOut * dOutByDz2).T)\n",
        "    dz1ByDwih = X\n",
        "    dh1ByDz1 = np.multiply(hiddenLayerInput,(1-hiddenLayerInput))\n",
        "    dz2ByDh1 = w_ho.T\n",
        "    deByDWih =np.dot(dz1ByDwih,dh1ByDz1 * np.dot(dz2ByDh1.T,(deByDOut * dOutByDz2)))\n",
        "    deByDWih_new =np.dot(dz1ByDwih, np.dot(dz2ByDh1.T, (deByDOut * dOutByDz2)) * dh1ByDz1)\n",
        "    deByDWih_new_new_new =np.dot(dz1ByDwih,np.dot(np.dot(dh1ByDz1,dz2ByDh1.T),(deByDOut*dOutByDz2)))\n",
        "    deByDWih_new_new =  np.dot(dz1ByDwih,dh1ByDz1 * np.dot(dz2ByDh1.T,(deByDOut * dOutByDz2)))\n",
        "    deByDWih_1= np.dot(dz1ByDwih,(dh1ByDz1 * np.dot(dz2ByDh1.T,(deByDOut * dOutByDz2))))\n",
        "    # Update the weights according to gradient descent\n",
        "\n",
        "    w_ih = w_ih - (alpha*deByDWih)\n",
        "    w_ho = w_ho - (alpha*deByDWh0)\n",
        "\n",
        "    # Appending of Error of each epoch\n",
        "    error_epoch.append(np.average(error))\n",
        "\n",
        "     \n",
        "\n",
        "\n",
        "\n",
        "\n",
        "\n",
        "    \n"
      ],
      "execution_count": null,
      "outputs": []
    },
    {
      "cell_type": "code",
      "metadata": {
        "id": "9x5KU0hD2RTw",
        "outputId": "2fbba265-4edd-43fd-b86a-f918513c6d65",
        "colab": {
          "base_uri": "https://localhost:8080/"
        }
      },
      "source": [
        "w_ho"
      ],
      "execution_count": null,
      "outputs": [
        {
          "output_type": "execute_result",
          "data": {
            "text/plain": [
              "array([[ 0.04317453],\n",
              "       [-1.45748772],\n",
              "       [ 1.31532504]])"
            ]
          },
          "metadata": {
            "tags": []
          },
          "execution_count": 590
        }
      ]
    },
    {
      "cell_type": "code",
      "metadata": {
        "id": "9gj09_fp2RTy",
        "outputId": "1ea7c0aa-bc0e-4158-95a8-fed07043018a",
        "colab": {
          "base_uri": "https://localhost:8080/",
          "height": 282
        }
      },
      "source": [
        "plt.plot(np.arange(1,epochs+1),np.array(error_epoch))"
      ],
      "execution_count": null,
      "outputs": [
        {
          "output_type": "execute_result",
          "data": {
            "text/plain": [
              "[<matplotlib.lines.Line2D at 0x7f79fa3fddd8>]"
            ]
          },
          "metadata": {
            "tags": []
          },
          "execution_count": 591
        },
        {
          "output_type": "display_data",
          "data": {
            "image/png": "[encoded data removed]",
            "text/plain": [
              "<Figure size 432x288 with 1 Axes>"
            ]
          },
          "metadata": {
            "tags": [],
            "needs_background": "light"
          }
        }
      ]
    },
    {
      "cell_type": "code",
      "metadata": {
        "id": "iitNLZUM2RT2",
        "outputId": "7f0b2c8c-d94e-49c1-ee65-983a3e4faa01",
        "colab": {
          "base_uri": "https://localhost:8080/"
        }
      },
      "source": [
        "output"
      ],
      "execution_count": null,
      "outputs": [
        {
          "output_type": "execute_result",
          "data": {
            "text/plain": [
              "array([[0.76738143, 0.7372489 , 0.47970213]])"
            ]
          },
          "metadata": {
            "tags": []
          },
          "execution_count": 592
        }
      ]
    },
    {
      "cell_type": "code",
      "metadata": {
        "id": "-g8QBCRO2RT4",
        "outputId": "b00a6cb1-1229-476b-e1fe-7a11b9535b64",
        "colab": {
          "base_uri": "https://localhost:8080/"
        }
      },
      "source": [
        "Y"
      ],
      "execution_count": null,
      "outputs": [
        {
          "output_type": "execute_result",
          "data": {
            "text/plain": [
              "array([[1, 1, 0]])"
            ]
          },
          "metadata": {
            "tags": []
          },
          "execution_count": 593
        }
      ]
    },
    {
      "cell_type": "code",
      "metadata": {
        "id": "NaU2VL7e2RT8",
        "outputId": "1cf16836-8510-4953-aae6-a3f677cef546",
        "colab": {
          "base_uri": "https://localhost:8080/"
        }
      },
      "source": [
        "error"
      ],
      "execution_count": null,
      "outputs": [
        {
          "output_type": "execute_result",
          "data": {
            "text/plain": [
              "array([[0.0270557 , 0.03451907, 0.11505707]])"
            ]
          },
          "metadata": {
            "tags": []
          },
          "execution_count": 594
        }
      ]
    },
    {
      "cell_type": "code",
      "metadata": {
        "id": "ab3yasxq2RT-"
      },
      "source": [
        ""
      ],
      "execution_count": null,
      "outputs": []
    }
  ]
}