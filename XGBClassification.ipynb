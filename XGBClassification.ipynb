{
 "metadata": {
  "language_info": {
   "codemirror_mode": {
    "name": "ipython",
    "version": 3
   },
   "file_extension": ".py",
   "mimetype": "text/x-python",
   "name": "python",
   "nbconvert_exporter": "python",
   "pygments_lexer": "ipython3",
   "version": "3.6.12-final"
  },
  "orig_nbformat": 2,
  "kernelspec": {
   "name": "python3",
   "display_name": "Python 3",
   "language": "python"
  }
 },
 "nbformat": 4,
 "nbformat_minor": 2,
 "cells": [
  {
   "cell_type": "code",
   "execution_count": 5,
   "metadata": {},
   "outputs": [],
   "source": [
    "import xgboost"
   ]
  },
  {
   "cell_type": "code",
   "execution_count": 6,
   "metadata": {},
   "outputs": [],
   "source": [
    "import pandas as pd"
   ]
  },
  {
   "cell_type": "code",
   "execution_count": 10,
   "metadata": {},
   "outputs": [],
   "source": [
    "df_census = pd.read_csv('https://archive.ics.uci.edu/ml/machine-learning-databases/adult/adult.data',header=None)"
   ]
  },
  {
   "cell_type": "code",
   "execution_count": 11,
   "metadata": {},
   "outputs": [
    {
     "output_type": "execute_result",
     "data": {
      "text/plain": [
       "   0                  1       2           3   4                    5   \\\n",
       "0  39          State-gov   77516   Bachelors  13        Never-married   \n",
       "1  50   Self-emp-not-inc   83311   Bachelors  13   Married-civ-spouse   \n",
       "2  38            Private  215646     HS-grad   9             Divorced   \n",
       "3  53            Private  234721        11th   7   Married-civ-spouse   \n",
       "4  28            Private  338409   Bachelors  13   Married-civ-spouse   \n",
       "\n",
       "                   6               7       8        9     10  11  12  \\\n",
       "0        Adm-clerical   Not-in-family   White     Male  2174   0  40   \n",
       "1     Exec-managerial         Husband   White     Male     0   0  13   \n",
       "2   Handlers-cleaners   Not-in-family   White     Male     0   0  40   \n",
       "3   Handlers-cleaners         Husband   Black     Male     0   0  40   \n",
       "4      Prof-specialty            Wife   Black   Female     0   0  40   \n",
       "\n",
       "               13      14  \n",
       "0   United-States   <=50K  \n",
       "1   United-States   <=50K  \n",
       "2   United-States   <=50K  \n",
       "3   United-States   <=50K  \n",
       "4            Cuba   <=50K  "
      ],
      "text/html": "<div>\n<style scoped>\n    .dataframe tbody tr th:only-of-type {\n        vertical-align: middle;\n    }\n\n    .dataframe tbody tr th {\n        vertical-align: top;\n    }\n\n    .dataframe thead th {\n        text-align: right;\n    }\n</style>\n<table border=\"1\" class=\"dataframe\">\n  <thead>\n    <tr style=\"text-align: right;\">\n      <th></th>\n      <th>0</th>\n      <th>1</th>\n      <th>2</th>\n      <th>3</th>\n      <th>4</th>\n      <th>5</th>\n      <th>6</th>\n      <th>7</th>\n      <th>8</th>\n      <th>9</th>\n      <th>10</th>\n      <th>11</th>\n      <th>12</th>\n      <th>13</th>\n      <th>14</th>\n    </tr>\n  </thead>\n  <tbody>\n    <tr>\n      <th>0</th>\n      <td>39</td>\n      <td>State-gov</td>\n      <td>77516</td>\n      <td>Bachelors</td>\n      <td>13</td>\n      <td>Never-married</td>\n      <td>Adm-clerical</td>\n      <td>Not-in-family</td>\n      <td>White</td>\n      <td>Male</td>\n      <td>2174</td>\n      <td>0</td>\n      <td>40</td>\n      <td>United-States</td>\n      <td>&lt;=50K</td>\n    </tr>\n    <tr>\n      <th>1</th>\n      <td>50</td>\n      <td>Self-emp-not-inc</td>\n      <td>83311</td>\n      <td>Bachelors</td>\n      <td>13</td>\n      <td>Married-civ-spouse</td>\n      <td>Exec-managerial</td>\n      <td>Husband</td>\n      <td>White</td>\n      <td>Male</td>\n      <td>0</td>\n      <td>0</td>\n      <td>13</td>\n      <td>United-States</td>\n      <td>&lt;=50K</td>\n    </tr>\n    <tr>\n      <th>2</th>\n      <td>38</td>\n      <td>Private</td>\n      <td>215646</td>\n      <td>HS-grad</td>\n      <td>9</td>\n      <td>Divorced</td>\n      <td>Handlers-cleaners</td>\n      <td>Not-in-family</td>\n      <td>White</td>\n      <td>Male</td>\n      <td>0</td>\n      <td>0</td>\n      <td>40</td>\n      <td>United-States</td>\n      <td>&lt;=50K</td>\n    </tr>\n    <tr>\n      <th>3</th>\n      <td>53</td>\n      <td>Private</td>\n      <td>234721</td>\n      <td>11th</td>\n      <td>7</td>\n      <td>Married-civ-spouse</td>\n      <td>Handlers-cleaners</td>\n      <td>Husband</td>\n      <td>Black</td>\n      <td>Male</td>\n      <td>0</td>\n      <td>0</td>\n      <td>40</td>\n      <td>United-States</td>\n      <td>&lt;=50K</td>\n    </tr>\n    <tr>\n      <th>4</th>\n      <td>28</td>\n      <td>Private</td>\n      <td>338409</td>\n      <td>Bachelors</td>\n      <td>13</td>\n      <td>Married-civ-spouse</td>\n      <td>Prof-specialty</td>\n      <td>Wife</td>\n      <td>Black</td>\n      <td>Female</td>\n      <td>0</td>\n      <td>0</td>\n      <td>40</td>\n      <td>Cuba</td>\n      <td>&lt;=50K</td>\n    </tr>\n  </tbody>\n</table>\n</div>"
     },
     "metadata": {},
     "execution_count": 11
    }
   ],
   "source": [
    "df_census.head()"
   ]
  },
  {
   "cell_type": "code",
   "execution_count": 12,
   "metadata": {},
   "outputs": [],
   "source": [
    "df_census.columns=['age', 'workclass', 'fnlwgt', 'education', 'education-num', 'marital-status', 'occupation', 'relationship', 'race', 'sex', 'capital-gain', 'capital-loss', 'hours-per-week', 'native-country', 'income']\n"
   ]
  },
  {
   "cell_type": "code",
   "execution_count": 13,
   "metadata": {},
   "outputs": [
    {
     "output_type": "execute_result",
     "data": {
      "text/plain": [
       "   age          workclass  fnlwgt   education  education-num  \\\n",
       "0   39          State-gov   77516   Bachelors             13   \n",
       "1   50   Self-emp-not-inc   83311   Bachelors             13   \n",
       "2   38            Private  215646     HS-grad              9   \n",
       "3   53            Private  234721        11th              7   \n",
       "4   28            Private  338409   Bachelors             13   \n",
       "\n",
       "        marital-status          occupation    relationship    race      sex  \\\n",
       "0        Never-married        Adm-clerical   Not-in-family   White     Male   \n",
       "1   Married-civ-spouse     Exec-managerial         Husband   White     Male   \n",
       "2             Divorced   Handlers-cleaners   Not-in-family   White     Male   \n",
       "3   Married-civ-spouse   Handlers-cleaners         Husband   Black     Male   \n",
       "4   Married-civ-spouse      Prof-specialty            Wife   Black   Female   \n",
       "\n",
       "   capital-gain  capital-loss  hours-per-week  native-country  income  \n",
       "0          2174             0              40   United-States   <=50K  \n",
       "1             0             0              13   United-States   <=50K  \n",
       "2             0             0              40   United-States   <=50K  \n",
       "3             0             0              40   United-States   <=50K  \n",
       "4             0             0              40            Cuba   <=50K  "
      ],
      "text/html": "<div>\n<style scoped>\n    .dataframe tbody tr th:only-of-type {\n        vertical-align: middle;\n    }\n\n    .dataframe tbody tr th {\n        vertical-align: top;\n    }\n\n    .dataframe thead th {\n        text-align: right;\n    }\n</style>\n<table border=\"1\" class=\"dataframe\">\n  <thead>\n    <tr style=\"text-align: right;\">\n      <th></th>\n      <th>age</th>\n      <th>workclass</th>\n      <th>fnlwgt</th>\n      <th>education</th>\n      <th>education-num</th>\n      <th>marital-status</th>\n      <th>occupation</th>\n      <th>relationship</th>\n      <th>race</th>\n      <th>sex</th>\n      <th>capital-gain</th>\n      <th>capital-loss</th>\n      <th>hours-per-week</th>\n      <th>native-country</th>\n      <th>income</th>\n    </tr>\n  </thead>\n  <tbody>\n    <tr>\n      <th>0</th>\n      <td>39</td>\n      <td>State-gov</td>\n      <td>77516</td>\n      <td>Bachelors</td>\n      <td>13</td>\n      <td>Never-married</td>\n      <td>Adm-clerical</td>\n      <td>Not-in-family</td>\n      <td>White</td>\n      <td>Male</td>\n      <td>2174</td>\n      <td>0</td>\n      <td>40</td>\n      <td>United-States</td>\n      <td>&lt;=50K</td>\n    </tr>\n    <tr>\n      <th>1</th>\n      <td>50</td>\n      <td>Self-emp-not-inc</td>\n      <td>83311</td>\n      <td>Bachelors</td>\n      <td>13</td>\n      <td>Married-civ-spouse</td>\n      <td>Exec-managerial</td>\n      <td>Husband</td>\n      <td>White</td>\n      <td>Male</td>\n      <td>0</td>\n      <td>0</td>\n      <td>13</td>\n      <td>United-States</td>\n      <td>&lt;=50K</td>\n    </tr>\n    <tr>\n      <th>2</th>\n      <td>38</td>\n      <td>Private</td>\n      <td>215646</td>\n      <td>HS-grad</td>\n      <td>9</td>\n      <td>Divorced</td>\n      <td>Handlers-cleaners</td>\n      <td>Not-in-family</td>\n      <td>White</td>\n      <td>Male</td>\n      <td>0</td>\n      <td>0</td>\n      <td>40</td>\n      <td>United-States</td>\n      <td>&lt;=50K</td>\n    </tr>\n    <tr>\n      <th>3</th>\n      <td>53</td>\n      <td>Private</td>\n      <td>234721</td>\n      <td>11th</td>\n      <td>7</td>\n      <td>Married-civ-spouse</td>\n      <td>Handlers-cleaners</td>\n      <td>Husband</td>\n      <td>Black</td>\n      <td>Male</td>\n      <td>0</td>\n      <td>0</td>\n      <td>40</td>\n      <td>United-States</td>\n      <td>&lt;=50K</td>\n    </tr>\n    <tr>\n      <th>4</th>\n      <td>28</td>\n      <td>Private</td>\n      <td>338409</td>\n      <td>Bachelors</td>\n      <td>13</td>\n      <td>Married-civ-spouse</td>\n      <td>Prof-specialty</td>\n      <td>Wife</td>\n      <td>Black</td>\n      <td>Female</td>\n      <td>0</td>\n      <td>0</td>\n      <td>40</td>\n      <td>Cuba</td>\n      <td>&lt;=50K</td>\n    </tr>\n  </tbody>\n</table>\n</div>"
     },
     "metadata": {},
     "execution_count": 13
    }
   ],
   "source": [
    "df_census.head()"
   ]
  },
  {
   "cell_type": "code",
   "execution_count": 14,
   "metadata": {},
   "outputs": [
    {
     "output_type": "stream",
     "name": "stdout",
     "text": [
      "<class 'pandas.core.frame.DataFrame'>\nRangeIndex: 32561 entries, 0 to 32560\nData columns (total 15 columns):\nage               32561 non-null int64\nworkclass         32561 non-null object\nfnlwgt            32561 non-null int64\neducation         32561 non-null object\neducation-num     32561 non-null int64\nmarital-status    32561 non-null object\noccupation        32561 non-null object\nrelationship      32561 non-null object\nrace              32561 non-null object\nsex               32561 non-null object\ncapital-gain      32561 non-null int64\ncapital-loss      32561 non-null int64\nhours-per-week    32561 non-null int64\nnative-country    32561 non-null object\nincome            32561 non-null object\ndtypes: int64(6), object(9)\nmemory usage: 3.7+ MB\n"
     ]
    }
   ],
   "source": [
    "df_census.info()"
   ]
  },
  {
   "cell_type": "code",
   "execution_count": 15,
   "metadata": {},
   "outputs": [],
   "source": [
    "df_census=df_census.drop('education',axis=1)"
   ]
  },
  {
   "cell_type": "code",
   "execution_count": 16,
   "metadata": {},
   "outputs": [
    {
     "output_type": "execute_result",
     "data": {
      "text/plain": [
       "   age          workclass  fnlwgt  education-num       marital-status  \\\n",
       "0   39          State-gov   77516             13        Never-married   \n",
       "1   50   Self-emp-not-inc   83311             13   Married-civ-spouse   \n",
       "2   38            Private  215646              9             Divorced   \n",
       "3   53            Private  234721              7   Married-civ-spouse   \n",
       "4   28            Private  338409             13   Married-civ-spouse   \n",
       "\n",
       "           occupation    relationship    race      sex  capital-gain  \\\n",
       "0        Adm-clerical   Not-in-family   White     Male          2174   \n",
       "1     Exec-managerial         Husband   White     Male             0   \n",
       "2   Handlers-cleaners   Not-in-family   White     Male             0   \n",
       "3   Handlers-cleaners         Husband   Black     Male             0   \n",
       "4      Prof-specialty            Wife   Black   Female             0   \n",
       "\n",
       "   capital-loss  hours-per-week  native-country  income  \n",
       "0             0              40   United-States   <=50K  \n",
       "1             0              13   United-States   <=50K  \n",
       "2             0              40   United-States   <=50K  \n",
       "3             0              40   United-States   <=50K  \n",
       "4             0              40            Cuba   <=50K  "
      ],
      "text/html": "<div>\n<style scoped>\n    .dataframe tbody tr th:only-of-type {\n        vertical-align: middle;\n    }\n\n    .dataframe tbody tr th {\n        vertical-align: top;\n    }\n\n    .dataframe thead th {\n        text-align: right;\n    }\n</style>\n<table border=\"1\" class=\"dataframe\">\n  <thead>\n    <tr style=\"text-align: right;\">\n      <th></th>\n      <th>age</th>\n      <th>workclass</th>\n      <th>fnlwgt</th>\n      <th>education-num</th>\n      <th>marital-status</th>\n      <th>occupation</th>\n      <th>relationship</th>\n      <th>race</th>\n      <th>sex</th>\n      <th>capital-gain</th>\n      <th>capital-loss</th>\n      <th>hours-per-week</th>\n      <th>native-country</th>\n      <th>income</th>\n    </tr>\n  </thead>\n  <tbody>\n    <tr>\n      <th>0</th>\n      <td>39</td>\n      <td>State-gov</td>\n      <td>77516</td>\n      <td>13</td>\n      <td>Never-married</td>\n      <td>Adm-clerical</td>\n      <td>Not-in-family</td>\n      <td>White</td>\n      <td>Male</td>\n      <td>2174</td>\n      <td>0</td>\n      <td>40</td>\n      <td>United-States</td>\n      <td>&lt;=50K</td>\n    </tr>\n    <tr>\n      <th>1</th>\n      <td>50</td>\n      <td>Self-emp-not-inc</td>\n      <td>83311</td>\n      <td>13</td>\n      <td>Married-civ-spouse</td>\n      <td>Exec-managerial</td>\n      <td>Husband</td>\n      <td>White</td>\n      <td>Male</td>\n      <td>0</td>\n      <td>0</td>\n      <td>13</td>\n      <td>United-States</td>\n      <td>&lt;=50K</td>\n    </tr>\n    <tr>\n      <th>2</th>\n      <td>38</td>\n      <td>Private</td>\n      <td>215646</td>\n      <td>9</td>\n      <td>Divorced</td>\n      <td>Handlers-cleaners</td>\n      <td>Not-in-family</td>\n      <td>White</td>\n      <td>Male</td>\n      <td>0</td>\n      <td>0</td>\n      <td>40</td>\n      <td>United-States</td>\n      <td>&lt;=50K</td>\n    </tr>\n    <tr>\n      <th>3</th>\n      <td>53</td>\n      <td>Private</td>\n      <td>234721</td>\n      <td>7</td>\n      <td>Married-civ-spouse</td>\n      <td>Handlers-cleaners</td>\n      <td>Husband</td>\n      <td>Black</td>\n      <td>Male</td>\n      <td>0</td>\n      <td>0</td>\n      <td>40</td>\n      <td>United-States</td>\n      <td>&lt;=50K</td>\n    </tr>\n    <tr>\n      <th>4</th>\n      <td>28</td>\n      <td>Private</td>\n      <td>338409</td>\n      <td>13</td>\n      <td>Married-civ-spouse</td>\n      <td>Prof-specialty</td>\n      <td>Wife</td>\n      <td>Black</td>\n      <td>Female</td>\n      <td>0</td>\n      <td>0</td>\n      <td>40</td>\n      <td>Cuba</td>\n      <td>&lt;=50K</td>\n    </tr>\n  </tbody>\n</table>\n</div>"
     },
     "metadata": {},
     "execution_count": 16
    }
   ],
   "source": [
    "df_census.head()"
   ]
  },
  {
   "cell_type": "code",
   "execution_count": 17,
   "metadata": {},
   "outputs": [
    {
     "output_type": "stream",
     "name": "stdout",
     "text": [
      "<class 'pandas.core.frame.DataFrame'>\nRangeIndex: 32561 entries, 0 to 32560\nData columns (total 14 columns):\nage               32561 non-null int64\nworkclass         32561 non-null object\nfnlwgt            32561 non-null int64\neducation-num     32561 non-null int64\nmarital-status    32561 non-null object\noccupation        32561 non-null object\nrelationship      32561 non-null object\nrace              32561 non-null object\nsex               32561 non-null object\ncapital-gain      32561 non-null int64\ncapital-loss      32561 non-null int64\nhours-per-week    32561 non-null int64\nnative-country    32561 non-null object\nincome            32561 non-null object\ndtypes: int64(6), object(8)\nmemory usage: 3.5+ MB\n"
     ]
    }
   ],
   "source": [
    "df_census.info()"
   ]
  },
  {
   "cell_type": "code",
   "execution_count": 18,
   "metadata": {},
   "outputs": [],
   "source": [
    "df_census = pd.get_dummies(df_census)"
   ]
  },
  {
   "cell_type": "code",
   "execution_count": 19,
   "metadata": {},
   "outputs": [
    {
     "output_type": "execute_result",
     "data": {
      "text/plain": [
       "   age  fnlwgt  education-num  capital-gain  capital-loss  hours-per-week  \\\n",
       "0   39   77516             13          2174             0              40   \n",
       "1   50   83311             13             0             0              13   \n",
       "2   38  215646              9             0             0              40   \n",
       "3   53  234721              7             0             0              40   \n",
       "4   28  338409             13             0             0              40   \n",
       "\n",
       "   workclass_ ?  workclass_ Federal-gov  workclass_ Local-gov  \\\n",
       "0             0                       0                     0   \n",
       "1             0                       0                     0   \n",
       "2             0                       0                     0   \n",
       "3             0                       0                     0   \n",
       "4             0                       0                     0   \n",
       "\n",
       "   workclass_ Never-worked  ...  native-country_ Scotland  \\\n",
       "0                        0  ...                         0   \n",
       "1                        0  ...                         0   \n",
       "2                        0  ...                         0   \n",
       "3                        0  ...                         0   \n",
       "4                        0  ...                         0   \n",
       "\n",
       "   native-country_ South  native-country_ Taiwan  native-country_ Thailand  \\\n",
       "0                      0                       0                         0   \n",
       "1                      0                       0                         0   \n",
       "2                      0                       0                         0   \n",
       "3                      0                       0                         0   \n",
       "4                      0                       0                         0   \n",
       "\n",
       "   native-country_ Trinadad&Tobago  native-country_ United-States  \\\n",
       "0                                0                              1   \n",
       "1                                0                              1   \n",
       "2                                0                              1   \n",
       "3                                0                              1   \n",
       "4                                0                              0   \n",
       "\n",
       "   native-country_ Vietnam  native-country_ Yugoslavia  income_ <=50K  \\\n",
       "0                        0                           0              1   \n",
       "1                        0                           0              1   \n",
       "2                        0                           0              1   \n",
       "3                        0                           0              1   \n",
       "4                        0                           0              1   \n",
       "\n",
       "   income_ >50K  \n",
       "0             0  \n",
       "1             0  \n",
       "2             0  \n",
       "3             0  \n",
       "4             0  \n",
       "\n",
       "[5 rows x 94 columns]"
      ],
      "text/html": "<div>\n<style scoped>\n    .dataframe tbody tr th:only-of-type {\n        vertical-align: middle;\n    }\n\n    .dataframe tbody tr th {\n        vertical-align: top;\n    }\n\n    .dataframe thead th {\n        text-align: right;\n    }\n</style>\n<table border=\"1\" class=\"dataframe\">\n  <thead>\n    <tr style=\"text-align: right;\">\n      <th></th>\n      <th>age</th>\n      <th>fnlwgt</th>\n      <th>education-num</th>\n      <th>capital-gain</th>\n      <th>capital-loss</th>\n      <th>hours-per-week</th>\n      <th>workclass_ ?</th>\n      <th>workclass_ Federal-gov</th>\n      <th>workclass_ Local-gov</th>\n      <th>workclass_ Never-worked</th>\n      <th>...</th>\n      <th>native-country_ Scotland</th>\n      <th>native-country_ South</th>\n      <th>native-country_ Taiwan</th>\n      <th>native-country_ Thailand</th>\n      <th>native-country_ Trinadad&amp;Tobago</th>\n      <th>native-country_ United-States</th>\n      <th>native-country_ Vietnam</th>\n      <th>native-country_ Yugoslavia</th>\n      <th>income_ &lt;=50K</th>\n      <th>income_ &gt;50K</th>\n    </tr>\n  </thead>\n  <tbody>\n    <tr>\n      <th>0</th>\n      <td>39</td>\n      <td>77516</td>\n      <td>13</td>\n      <td>2174</td>\n      <td>0</td>\n      <td>40</td>\n      <td>0</td>\n      <td>0</td>\n      <td>0</td>\n      <td>0</td>\n      <td>...</td>\n      <td>0</td>\n      <td>0</td>\n      <td>0</td>\n      <td>0</td>\n      <td>0</td>\n      <td>1</td>\n      <td>0</td>\n      <td>0</td>\n      <td>1</td>\n      <td>0</td>\n    </tr>\n    <tr>\n      <th>1</th>\n      <td>50</td>\n      <td>83311</td>\n      <td>13</td>\n      <td>0</td>\n      <td>0</td>\n      <td>13</td>\n      <td>0</td>\n      <td>0</td>\n      <td>0</td>\n      <td>0</td>\n      <td>...</td>\n      <td>0</td>\n      <td>0</td>\n      <td>0</td>\n      <td>0</td>\n      <td>0</td>\n      <td>1</td>\n      <td>0</td>\n      <td>0</td>\n      <td>1</td>\n      <td>0</td>\n    </tr>\n    <tr>\n      <th>2</th>\n      <td>38</td>\n      <td>215646</td>\n      <td>9</td>\n      <td>0</td>\n      <td>0</td>\n      <td>40</td>\n      <td>0</td>\n      <td>0</td>\n      <td>0</td>\n      <td>0</td>\n      <td>...</td>\n      <td>0</td>\n      <td>0</td>\n      <td>0</td>\n      <td>0</td>\n      <td>0</td>\n      <td>1</td>\n      <td>0</td>\n      <td>0</td>\n      <td>1</td>\n      <td>0</td>\n    </tr>\n    <tr>\n      <th>3</th>\n      <td>53</td>\n      <td>234721</td>\n      <td>7</td>\n      <td>0</td>\n      <td>0</td>\n      <td>40</td>\n      <td>0</td>\n      <td>0</td>\n      <td>0</td>\n      <td>0</td>\n      <td>...</td>\n      <td>0</td>\n      <td>0</td>\n      <td>0</td>\n      <td>0</td>\n      <td>0</td>\n      <td>1</td>\n      <td>0</td>\n      <td>0</td>\n      <td>1</td>\n      <td>0</td>\n    </tr>\n    <tr>\n      <th>4</th>\n      <td>28</td>\n      <td>338409</td>\n      <td>13</td>\n      <td>0</td>\n      <td>0</td>\n      <td>40</td>\n      <td>0</td>\n      <td>0</td>\n      <td>0</td>\n      <td>0</td>\n      <td>...</td>\n      <td>0</td>\n      <td>0</td>\n      <td>0</td>\n      <td>0</td>\n      <td>0</td>\n      <td>0</td>\n      <td>0</td>\n      <td>0</td>\n      <td>1</td>\n      <td>0</td>\n    </tr>\n  </tbody>\n</table>\n<p>5 rows × 94 columns</p>\n</div>"
     },
     "metadata": {},
     "execution_count": 19
    }
   ],
   "source": [
    "df_census.head()"
   ]
  },
  {
   "cell_type": "code",
   "execution_count": 20,
   "metadata": {},
   "outputs": [
    {
     "output_type": "stream",
     "name": "stdout",
     "text": [
      "<class 'pandas.core.frame.DataFrame'>\nRangeIndex: 32561 entries, 0 to 32560\nData columns (total 94 columns):\nage                                           32561 non-null int64\nfnlwgt                                        32561 non-null int64\neducation-num                                 32561 non-null int64\ncapital-gain                                  32561 non-null int64\ncapital-loss                                  32561 non-null int64\nhours-per-week                                32561 non-null int64\nworkclass_ ?                                  32561 non-null uint8\nworkclass_ Federal-gov                        32561 non-null uint8\nworkclass_ Local-gov                          32561 non-null uint8\nworkclass_ Never-worked                       32561 non-null uint8\nworkclass_ Private                            32561 non-null uint8\nworkclass_ Self-emp-inc                       32561 non-null uint8\nworkclass_ Self-emp-not-inc                   32561 non-null uint8\nworkclass_ State-gov                          32561 non-null uint8\nworkclass_ Without-pay                        32561 non-null uint8\nmarital-status_ Divorced                      32561 non-null uint8\nmarital-status_ Married-AF-spouse             32561 non-null uint8\nmarital-status_ Married-civ-spouse            32561 non-null uint8\nmarital-status_ Married-spouse-absent         32561 non-null uint8\nmarital-status_ Never-married                 32561 non-null uint8\nmarital-status_ Separated                     32561 non-null uint8\nmarital-status_ Widowed                       32561 non-null uint8\noccupation_ ?                                 32561 non-null uint8\noccupation_ Adm-clerical                      32561 non-null uint8\noccupation_ Armed-Forces                      32561 non-null uint8\noccupation_ Craft-repair                      32561 non-null uint8\noccupation_ Exec-managerial                   32561 non-null uint8\noccupation_ Farming-fishing                   32561 non-null uint8\noccupation_ Handlers-cleaners                 32561 non-null uint8\noccupation_ Machine-op-inspct                 32561 non-null uint8\noccupation_ Other-service                     32561 non-null uint8\noccupation_ Priv-house-serv                   32561 non-null uint8\noccupation_ Prof-specialty                    32561 non-null uint8\noccupation_ Protective-serv                   32561 non-null uint8\noccupation_ Sales                             32561 non-null uint8\noccupation_ Tech-support                      32561 non-null uint8\noccupation_ Transport-moving                  32561 non-null uint8\nrelationship_ Husband                         32561 non-null uint8\nrelationship_ Not-in-family                   32561 non-null uint8\nrelationship_ Other-relative                  32561 non-null uint8\nrelationship_ Own-child                       32561 non-null uint8\nrelationship_ Unmarried                       32561 non-null uint8\nrelationship_ Wife                            32561 non-null uint8\nrace_ Amer-Indian-Eskimo                      32561 non-null uint8\nrace_ Asian-Pac-Islander                      32561 non-null uint8\nrace_ Black                                   32561 non-null uint8\nrace_ Other                                   32561 non-null uint8\nrace_ White                                   32561 non-null uint8\nsex_ Female                                   32561 non-null uint8\nsex_ Male                                     32561 non-null uint8\nnative-country_ ?                             32561 non-null uint8\nnative-country_ Cambodia                      32561 non-null uint8\nnative-country_ Canada                        32561 non-null uint8\nnative-country_ China                         32561 non-null uint8\nnative-country_ Columbia                      32561 non-null uint8\nnative-country_ Cuba                          32561 non-null uint8\nnative-country_ Dominican-Republic            32561 non-null uint8\nnative-country_ Ecuador                       32561 non-null uint8\nnative-country_ El-Salvador                   32561 non-null uint8\nnative-country_ England                       32561 non-null uint8\nnative-country_ France                        32561 non-null uint8\nnative-country_ Germany                       32561 non-null uint8\nnative-country_ Greece                        32561 non-null uint8\nnative-country_ Guatemala                     32561 non-null uint8\nnative-country_ Haiti                         32561 non-null uint8\nnative-country_ Holand-Netherlands            32561 non-null uint8\nnative-country_ Honduras                      32561 non-null uint8\nnative-country_ Hong                          32561 non-null uint8\nnative-country_ Hungary                       32561 non-null uint8\nnative-country_ India                         32561 non-null uint8\nnative-country_ Iran                          32561 non-null uint8\nnative-country_ Ireland                       32561 non-null uint8\nnative-country_ Italy                         32561 non-null uint8\nnative-country_ Jamaica                       32561 non-null uint8\nnative-country_ Japan                         32561 non-null uint8\nnative-country_ Laos                          32561 non-null uint8\nnative-country_ Mexico                        32561 non-null uint8\nnative-country_ Nicaragua                     32561 non-null uint8\nnative-country_ Outlying-US(Guam-USVI-etc)    32561 non-null uint8\nnative-country_ Peru                          32561 non-null uint8\nnative-country_ Philippines                   32561 non-null uint8\nnative-country_ Poland                        32561 non-null uint8\nnative-country_ Portugal                      32561 non-null uint8\nnative-country_ Puerto-Rico                   32561 non-null uint8\nnative-country_ Scotland                      32561 non-null uint8\nnative-country_ South                         32561 non-null uint8\nnative-country_ Taiwan                        32561 non-null uint8\nnative-country_ Thailand                      32561 non-null uint8\nnative-country_ Trinadad&Tobago               32561 non-null uint8\nnative-country_ United-States                 32561 non-null uint8\nnative-country_ Vietnam                       32561 non-null uint8\nnative-country_ Yugoslavia                    32561 non-null uint8\nincome_ <=50K                                 32561 non-null uint8\nincome_ >50K                                  32561 non-null uint8\ndtypes: int64(6), uint8(88)\nmemory usage: 4.2 MB\n"
     ]
    }
   ],
   "source": [
    "df_census.info()"
   ]
  },
  {
   "cell_type": "code",
   "execution_count": 22,
   "metadata": {},
   "outputs": [],
   "source": [
    "df_census = df_census.drop('income_ <=50K',axis=1)"
   ]
  },
  {
   "cell_type": "code",
   "execution_count": 23,
   "metadata": {},
   "outputs": [
    {
     "output_type": "stream",
     "name": "stdout",
     "text": [
      "<class 'pandas.core.frame.DataFrame'>\nRangeIndex: 32561 entries, 0 to 32560\nData columns (total 93 columns):\nage                                           32561 non-null int64\nfnlwgt                                        32561 non-null int64\neducation-num                                 32561 non-null int64\ncapital-gain                                  32561 non-null int64\ncapital-loss                                  32561 non-null int64\nhours-per-week                                32561 non-null int64\nworkclass_ ?                                  32561 non-null uint8\nworkclass_ Federal-gov                        32561 non-null uint8\nworkclass_ Local-gov                          32561 non-null uint8\nworkclass_ Never-worked                       32561 non-null uint8\nworkclass_ Private                            32561 non-null uint8\nworkclass_ Self-emp-inc                       32561 non-null uint8\nworkclass_ Self-emp-not-inc                   32561 non-null uint8\nworkclass_ State-gov                          32561 non-null uint8\nworkclass_ Without-pay                        32561 non-null uint8\nmarital-status_ Divorced                      32561 non-null uint8\nmarital-status_ Married-AF-spouse             32561 non-null uint8\nmarital-status_ Married-civ-spouse            32561 non-null uint8\nmarital-status_ Married-spouse-absent         32561 non-null uint8\nmarital-status_ Never-married                 32561 non-null uint8\nmarital-status_ Separated                     32561 non-null uint8\nmarital-status_ Widowed                       32561 non-null uint8\noccupation_ ?                                 32561 non-null uint8\noccupation_ Adm-clerical                      32561 non-null uint8\noccupation_ Armed-Forces                      32561 non-null uint8\noccupation_ Craft-repair                      32561 non-null uint8\noccupation_ Exec-managerial                   32561 non-null uint8\noccupation_ Farming-fishing                   32561 non-null uint8\noccupation_ Handlers-cleaners                 32561 non-null uint8\noccupation_ Machine-op-inspct                 32561 non-null uint8\noccupation_ Other-service                     32561 non-null uint8\noccupation_ Priv-house-serv                   32561 non-null uint8\noccupation_ Prof-specialty                    32561 non-null uint8\noccupation_ Protective-serv                   32561 non-null uint8\noccupation_ Sales                             32561 non-null uint8\noccupation_ Tech-support                      32561 non-null uint8\noccupation_ Transport-moving                  32561 non-null uint8\nrelationship_ Husband                         32561 non-null uint8\nrelationship_ Not-in-family                   32561 non-null uint8\nrelationship_ Other-relative                  32561 non-null uint8\nrelationship_ Own-child                       32561 non-null uint8\nrelationship_ Unmarried                       32561 non-null uint8\nrelationship_ Wife                            32561 non-null uint8\nrace_ Amer-Indian-Eskimo                      32561 non-null uint8\nrace_ Asian-Pac-Islander                      32561 non-null uint8\nrace_ Black                                   32561 non-null uint8\nrace_ Other                                   32561 non-null uint8\nrace_ White                                   32561 non-null uint8\nsex_ Female                                   32561 non-null uint8\nsex_ Male                                     32561 non-null uint8\nnative-country_ ?                             32561 non-null uint8\nnative-country_ Cambodia                      32561 non-null uint8\nnative-country_ Canada                        32561 non-null uint8\nnative-country_ China                         32561 non-null uint8\nnative-country_ Columbia                      32561 non-null uint8\nnative-country_ Cuba                          32561 non-null uint8\nnative-country_ Dominican-Republic            32561 non-null uint8\nnative-country_ Ecuador                       32561 non-null uint8\nnative-country_ El-Salvador                   32561 non-null uint8\nnative-country_ England                       32561 non-null uint8\nnative-country_ France                        32561 non-null uint8\nnative-country_ Germany                       32561 non-null uint8\nnative-country_ Greece                        32561 non-null uint8\nnative-country_ Guatemala                     32561 non-null uint8\nnative-country_ Haiti                         32561 non-null uint8\nnative-country_ Holand-Netherlands            32561 non-null uint8\nnative-country_ Honduras                      32561 non-null uint8\nnative-country_ Hong                          32561 non-null uint8\nnative-country_ Hungary                       32561 non-null uint8\nnative-country_ India                         32561 non-null uint8\nnative-country_ Iran                          32561 non-null uint8\nnative-country_ Ireland                       32561 non-null uint8\nnative-country_ Italy                         32561 non-null uint8\nnative-country_ Jamaica                       32561 non-null uint8\nnative-country_ Japan                         32561 non-null uint8\nnative-country_ Laos                          32561 non-null uint8\nnative-country_ Mexico                        32561 non-null uint8\nnative-country_ Nicaragua                     32561 non-null uint8\nnative-country_ Outlying-US(Guam-USVI-etc)    32561 non-null uint8\nnative-country_ Peru                          32561 non-null uint8\nnative-country_ Philippines                   32561 non-null uint8\nnative-country_ Poland                        32561 non-null uint8\nnative-country_ Portugal                      32561 non-null uint8\nnative-country_ Puerto-Rico                   32561 non-null uint8\nnative-country_ Scotland                      32561 non-null uint8\nnative-country_ South                         32561 non-null uint8\nnative-country_ Taiwan                        32561 non-null uint8\nnative-country_ Thailand                      32561 non-null uint8\nnative-country_ Trinadad&Tobago               32561 non-null uint8\nnative-country_ United-States                 32561 non-null uint8\nnative-country_ Vietnam                       32561 non-null uint8\nnative-country_ Yugoslavia                    32561 non-null uint8\nincome_ >50K                                  32561 non-null uint8\ndtypes: int64(6), uint8(87)\nmemory usage: 4.2 MB\n"
     ]
    }
   ],
   "source": [
    "df_census.info()"
   ]
  },
  {
   "cell_type": "code",
   "execution_count": 24,
   "metadata": {},
   "outputs": [],
   "source": [
    "X= df_census.iloc[:,:-1]\n",
    "y = df_census.iloc[:,-1]"
   ]
  },
  {
   "cell_type": "code",
   "execution_count": null,
   "metadata": {},
   "outputs": [],
   "source": []
  }
 ]
}